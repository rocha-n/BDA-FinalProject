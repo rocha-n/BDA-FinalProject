{
 "cells": [
  {
   "cell_type": "code",
   "execution_count": 18,
   "metadata": {},
   "outputs": [],
   "source": [
    "import pandas as pd\n",
    "import urllib"
   ]
  },
  {
   "cell_type": "code",
   "execution_count": 19,
   "metadata": {},
   "outputs": [],
   "source": [
    "FILE_PATH = r\"C:\\Users\\nrocha\\Desktop\\region.csv\""
   ]
  },
  {
   "cell_type": "code",
   "execution_count": 20,
   "metadata": {},
   "outputs": [],
   "source": [
    "#FILE_PATH = \"region.csv\""
   ]
  },
  {
   "cell_type": "code",
   "execution_count": 21,
   "metadata": {},
   "outputs": [],
   "source": [
    "data = pd.read_csv(FILE_PATH)"
   ]
  },
  {
   "cell_type": "code",
   "execution_count": 22,
   "metadata": {},
   "outputs": [],
   "source": [
    "#data[3075:3085]"
   ]
  },
  {
   "cell_type": "markdown",
   "metadata": {},
   "source": [
    "#### TESTS"
   ]
  },
  {
   "cell_type": "code",
   "execution_count": 24,
   "metadata": {},
   "outputs": [
    {
     "data": {
      "text/plain": [
       "country                   France\n",
       "province    Languedoc-Roussillon\n",
       "region_1           Saint-Chinian\n",
       "region_2                     NaN\n",
       "index                         67\n",
       "Name: 66, dtype: object"
      ]
     },
     "execution_count": 24,
     "metadata": {},
     "output_type": "execute_result"
    }
   ],
   "source": [
    "#data['id'][1] #first column  of id field\n",
    "data.iloc[66]"
   ]
  },
  {
   "cell_type": "code",
   "execution_count": 49,
   "metadata": {
    "scrolled": true
   },
   "outputs": [
    {
     "name": "stdout",
     "output_type": "stream",
     "text": [
      "Dealurile+Hușilor,Romania\n"
     ]
    }
   ],
   "source": [
    "#print(buildArgs(data['country'][x],data['province'][x],data['region_1'][x],data['region_2'][x]))\n",
    "#data.iloc[0]['region_1']\n",
    "#dset = data.iloc[0]\n",
    "#print(dset['region_1'] + ',' + dset['country'])\n",
    "#print(buildArgs(data.iloc[0]))\n",
    "#print(dset['region_1'].replace(' ', '+'))\n",
    "#print(repSpaces(dset['region_1'] + ',' + dset['country']))\n",
    "#print(url + buildArgs(data.iloc[913]))\n",
    "\n",
    "print(buildArgs(data.iloc[1662]))"
   ]
  },
  {
   "cell_type": "markdown",
   "metadata": {},
   "source": [
    "#### The real deal "
   ]
  },
  {
   "cell_type": "code",
   "execution_count": 25,
   "metadata": {},
   "outputs": [],
   "source": [
    "df = pd.DataFrame(columns=['id','place','lat','lon'])\n",
    "url = 'https://nominatim.openstreetmap.org/search.php?q='"
   ]
  },
  {
   "cell_type": "code",
   "execution_count": 26,
   "metadata": {},
   "outputs": [],
   "source": [
    "def repSpaces(s):\n",
    "    ret = s.replace('é','e')\n",
    "    ret = ret.replace('ê','e')\n",
    "    ret = ret.replace('è','e')\n",
    "    ret = ret.replace('ë','e')\n",
    "    ret = ret.replace('ä','a')\n",
    "    ret = ret.replace('â','a')\n",
    "    ret = ret.replace('á','a')\n",
    "    ret = ret.replace('ã','a')\n",
    "    ret = ret.replace('à','a')\n",
    "    ret = ret.replace('ï','i')\n",
    "    ret = ret.replace('í','i')\n",
    "    ret = ret.replace('ì','i')\n",
    "    ret = ret.replace('î','i')\n",
    "    ret = ret.replace('ı','i')\n",
    "    ret = ret.replace('É','E')\n",
    "    ret = ret.replace('ô','o')\n",
    "    ret = ret.replace('ö','o')\n",
    "    ret = ret.replace('ó','o')\n",
    "    ret = ret.replace('Ö','O')\n",
    "    ret = ret.replace('û','o')\n",
    "    ret = ret.replace('ù','u')\n",
    "    ret = ret.replace('ú','u')\n",
    "    ret = ret.replace('ü','u')\n",
    "    ret = ret.replace(' ','+')\n",
    "    ret = ret.replace('ñ','n')\n",
    "    ret = ret.replace('ç','c')\n",
    "    ret = ret.replace('č','c')\n",
    "    ret = ret.replace('ò','o')\n",
    "    ret = ret.replace('’','\\'')\n",
    "    ret = ret.replace('Ž','Z')\n",
    "    ret = ret.replace('Š','S')\n",
    "    ret = ret.replace('š','s')\n",
    "    ret = ret.replace('ș','s')\n",
    "    ret = ret.replace('ğ','g')\n",
    "    return ret"
   ]
  },
  {
   "cell_type": "code",
   "execution_count": 27,
   "metadata": {},
   "outputs": [],
   "source": [
    "def buildArgs(dset):\n",
    "\n",
    "    if not (pd.isnull(dset['region_2'])):\n",
    "        args = repSpaces(dset['region_2'] + ',' + dset['country'])\n",
    "    else:\n",
    "        if not (pd.isnull(dset['region_1'])):\n",
    "            args = repSpaces(dset['region_1'] + ',' + dset['country'])\n",
    "        else:\n",
    "            if not (pd.isnull(dset['province'])):\n",
    "                args = repSpaces(dset['province'] + ',' + dset['country'])\n",
    "            else:\n",
    "                if not (pd.isnull(dset['country'])):\n",
    "                    args = repSpaces(dset['country'])\n",
    "                else:\n",
    "                    args = ''\n",
    "    \n",
    "    return args"
   ]
  },
  {
   "cell_type": "code",
   "execution_count": 12,
   "metadata": {
    "scrolled": false
   },
   "outputs": [
    {
     "name": "stdout",
     "output_type": "stream",
     "text": [
      "1800\n"
     ]
    },
    {
     "ename": "IndexError",
     "evalue": "single positional indexer is out-of-bounds",
     "output_type": "error",
     "traceback": [
      "\u001b[1;31m---------------------------------------------------------------------------\u001b[0m",
      "\u001b[1;31mIndexError\u001b[0m                                Traceback (most recent call last)",
      "\u001b[1;32m<ipython-input-12-f1a19eb54bd0>\u001b[0m in \u001b[0;36m<module>\u001b[1;34m()\u001b[0m\n\u001b[0;32m      4\u001b[0m     \u001b[1;31m#print(data['country'][x])  + \" - \" + data['province'][x]#+ \" - \" + data['region_1'][x] + \" - \" + data['region_2'][x])\u001b[0m\u001b[1;33m\u001b[0m\u001b[1;33m\u001b[0m\u001b[0m\n\u001b[0;32m      5\u001b[0m     \u001b[1;31m#print(buildArgs(data['country'][x],data['province'][x],data['region_1'][x],data['region_2'][x]))\u001b[0m\u001b[1;33m\u001b[0m\u001b[1;33m\u001b[0m\u001b[0m\n\u001b[1;32m----> 6\u001b[1;33m     \u001b[0msearchStr\u001b[0m \u001b[1;33m=\u001b[0m \u001b[0mbuildArgs\u001b[0m\u001b[1;33m(\u001b[0m\u001b[0mdata\u001b[0m\u001b[1;33m.\u001b[0m\u001b[0miloc\u001b[0m\u001b[1;33m[\u001b[0m\u001b[0mx\u001b[0m\u001b[1;33m]\u001b[0m\u001b[1;33m)\u001b[0m\u001b[1;33m\u001b[0m\u001b[0m\n\u001b[0m\u001b[0;32m      7\u001b[0m     \u001b[1;31m#print(url + searchStr)\u001b[0m\u001b[1;33m\u001b[0m\u001b[1;33m\u001b[0m\u001b[0m\n\u001b[0;32m      8\u001b[0m     \u001b[0mf\u001b[0m \u001b[1;33m=\u001b[0m \u001b[0murllib\u001b[0m\u001b[1;33m.\u001b[0m\u001b[0mrequest\u001b[0m\u001b[1;33m.\u001b[0m\u001b[0murlopen\u001b[0m\u001b[1;33m(\u001b[0m\u001b[0murl\u001b[0m \u001b[1;33m+\u001b[0m \u001b[0msearchStr\u001b[0m\u001b[1;33m)\u001b[0m\u001b[1;33m\u001b[0m\u001b[0m\n",
      "\u001b[1;32m~\\AppData\\Local\\Continuum\\anaconda3\\lib\\site-packages\\pandas\\core\\indexing.py\u001b[0m in \u001b[0;36m__getitem__\u001b[1;34m(self, key)\u001b[0m\n\u001b[0;32m   1476\u001b[0m \u001b[1;33m\u001b[0m\u001b[0m\n\u001b[0;32m   1477\u001b[0m             \u001b[0mmaybe_callable\u001b[0m \u001b[1;33m=\u001b[0m \u001b[0mcom\u001b[0m\u001b[1;33m.\u001b[0m\u001b[0m_apply_if_callable\u001b[0m\u001b[1;33m(\u001b[0m\u001b[0mkey\u001b[0m\u001b[1;33m,\u001b[0m \u001b[0mself\u001b[0m\u001b[1;33m.\u001b[0m\u001b[0mobj\u001b[0m\u001b[1;33m)\u001b[0m\u001b[1;33m\u001b[0m\u001b[0m\n\u001b[1;32m-> 1478\u001b[1;33m             \u001b[1;32mreturn\u001b[0m \u001b[0mself\u001b[0m\u001b[1;33m.\u001b[0m\u001b[0m_getitem_axis\u001b[0m\u001b[1;33m(\u001b[0m\u001b[0mmaybe_callable\u001b[0m\u001b[1;33m,\u001b[0m \u001b[0maxis\u001b[0m\u001b[1;33m=\u001b[0m\u001b[0maxis\u001b[0m\u001b[1;33m)\u001b[0m\u001b[1;33m\u001b[0m\u001b[0m\n\u001b[0m\u001b[0;32m   1479\u001b[0m \u001b[1;33m\u001b[0m\u001b[0m\n\u001b[0;32m   1480\u001b[0m     \u001b[1;32mdef\u001b[0m \u001b[0m_is_scalar_access\u001b[0m\u001b[1;33m(\u001b[0m\u001b[0mself\u001b[0m\u001b[1;33m,\u001b[0m \u001b[0mkey\u001b[0m\u001b[1;33m)\u001b[0m\u001b[1;33m:\u001b[0m\u001b[1;33m\u001b[0m\u001b[0m\n",
      "\u001b[1;32m~\\AppData\\Local\\Continuum\\anaconda3\\lib\\site-packages\\pandas\\core\\indexing.py\u001b[0m in \u001b[0;36m_getitem_axis\u001b[1;34m(self, key, axis)\u001b[0m\n\u001b[0;32m   2100\u001b[0m \u001b[1;33m\u001b[0m\u001b[0m\n\u001b[0;32m   2101\u001b[0m             \u001b[1;31m# validate the location\u001b[0m\u001b[1;33m\u001b[0m\u001b[1;33m\u001b[0m\u001b[0m\n\u001b[1;32m-> 2102\u001b[1;33m             \u001b[0mself\u001b[0m\u001b[1;33m.\u001b[0m\u001b[0m_validate_integer\u001b[0m\u001b[1;33m(\u001b[0m\u001b[0mkey\u001b[0m\u001b[1;33m,\u001b[0m \u001b[0maxis\u001b[0m\u001b[1;33m)\u001b[0m\u001b[1;33m\u001b[0m\u001b[0m\n\u001b[0m\u001b[0;32m   2103\u001b[0m \u001b[1;33m\u001b[0m\u001b[0m\n\u001b[0;32m   2104\u001b[0m             \u001b[1;32mreturn\u001b[0m \u001b[0mself\u001b[0m\u001b[1;33m.\u001b[0m\u001b[0m_get_loc\u001b[0m\u001b[1;33m(\u001b[0m\u001b[0mkey\u001b[0m\u001b[1;33m,\u001b[0m \u001b[0maxis\u001b[0m\u001b[1;33m=\u001b[0m\u001b[0maxis\u001b[0m\u001b[1;33m)\u001b[0m\u001b[1;33m\u001b[0m\u001b[0m\n",
      "\u001b[1;32m~\\AppData\\Local\\Continuum\\anaconda3\\lib\\site-packages\\pandas\\core\\indexing.py\u001b[0m in \u001b[0;36m_validate_integer\u001b[1;34m(self, key, axis)\u001b[0m\n\u001b[0;32m   2007\u001b[0m         \u001b[0ml\u001b[0m \u001b[1;33m=\u001b[0m \u001b[0mlen\u001b[0m\u001b[1;33m(\u001b[0m\u001b[0max\u001b[0m\u001b[1;33m)\u001b[0m\u001b[1;33m\u001b[0m\u001b[0m\n\u001b[0;32m   2008\u001b[0m         \u001b[1;32mif\u001b[0m \u001b[0mkey\u001b[0m \u001b[1;33m>=\u001b[0m \u001b[0ml\u001b[0m \u001b[1;32mor\u001b[0m \u001b[0mkey\u001b[0m \u001b[1;33m<\u001b[0m \u001b[1;33m-\u001b[0m\u001b[0ml\u001b[0m\u001b[1;33m:\u001b[0m\u001b[1;33m\u001b[0m\u001b[0m\n\u001b[1;32m-> 2009\u001b[1;33m             \u001b[1;32mraise\u001b[0m \u001b[0mIndexError\u001b[0m\u001b[1;33m(\u001b[0m\u001b[1;34m\"single positional indexer is out-of-bounds\"\u001b[0m\u001b[1;33m)\u001b[0m\u001b[1;33m\u001b[0m\u001b[0m\n\u001b[0m\u001b[0;32m   2010\u001b[0m \u001b[1;33m\u001b[0m\u001b[0m\n\u001b[0;32m   2011\u001b[0m     \u001b[1;32mdef\u001b[0m \u001b[0m_getitem_tuple\u001b[0m\u001b[1;33m(\u001b[0m\u001b[0mself\u001b[0m\u001b[1;33m,\u001b[0m \u001b[0mtup\u001b[0m\u001b[1;33m)\u001b[0m\u001b[1;33m:\u001b[0m\u001b[1;33m\u001b[0m\u001b[0m\n",
      "\u001b[1;31mIndexError\u001b[0m: single positional indexer is out-of-bounds"
     ]
    }
   ],
   "source": [
    "#for x in range(9796,12000):\n",
    "for x in range(1,1800):\n",
    "    print(x)\n",
    "    #print(data['country'][x])  + \" - \" + data['province'][x]#+ \" - \" + data['region_1'][x] + \" - \" + data['region_2'][x])\n",
    "    #print(buildArgs(data['country'][x],data['province'][x],data['region_1'][x],data['region_2'][x]))\n",
    "    searchStr = buildArgs(data.iloc[x])\n",
    "    #print(url + searchStr)\n",
    "    f = urllib.request.urlopen(url + searchStr)\n",
    "    pageContent = f.read().decode('utf-8')\n",
    "    \n",
    "    #print(f.read().decode('utf-8'))\n",
    "    #print(startIndx)\n",
    "    #print(latStartIndex)\n",
    "    #print(latEndIndex)            \n",
    "    #print(pageContent[lonStartIndex+8:lonEndIndex])\n",
    "    #print(pageContent[latStartIndex+8:latEndIndex])\n",
    "    \n",
    "    startIndx = pageContent.find(\"nominatim_results\")\n",
    "    lonStartIndex = pageContent.find(\"\\\"lon\\\":\",startIndx)\n",
    "    \n",
    "    if (lonStartIndex != -1):\n",
    "        lonEndIndex = pageContent.find(\"\\\",\", lonStartIndex + 8)\n",
    "        latStartIndex = pageContent.find(\"\\\"lat\\\":\",startIndx)\n",
    "        latEndIndex = pageContent.find(\"\\\",\", latStartIndex + 8)\n",
    "        lon = pageContent[lonStartIndex+8:lonEndIndex]\n",
    "        lat = pageContent[latStartIndex+8:latEndIndex]\n",
    "    else:\n",
    "        lon = 0\n",
    "        lat = 0\n",
    "    \n",
    "    df.loc[x] = [x,searchStr,lat,lon]\n",
    "    \n",
    "    if(x % 1000 == 0):\n",
    "        fName = 'Last1' + str(x)\n",
    "        df.to_csv(fName)\n",
    "        df = pd.DataFrame(columns=['id','place','lat','lon'])"
   ]
  },
  {
   "cell_type": "code",
   "execution_count": 11,
   "metadata": {},
   "outputs": [],
   "source": [
    "fName = 'Last1' + str(x)\n",
    "df.to_csv(fName)\n",
    "df = pd.DataFrame(columns=['id','place','lat','lon'])"
   ]
  },
  {
   "cell_type": "code",
   "execution_count": 9,
   "metadata": {},
   "outputs": [
    {
     "data": {
      "text/html": [
       "<div>\n",
       "<style scoped>\n",
       "    .dataframe tbody tr th:only-of-type {\n",
       "        vertical-align: middle;\n",
       "    }\n",
       "\n",
       "    .dataframe tbody tr th {\n",
       "        vertical-align: top;\n",
       "    }\n",
       "\n",
       "    .dataframe thead th {\n",
       "        text-align: right;\n",
       "    }\n",
       "</style>\n",
       "<table border=\"1\" class=\"dataframe\">\n",
       "  <thead>\n",
       "    <tr style=\"text-align: right;\">\n",
       "      <th></th>\n",
       "      <th>id</th>\n",
       "      <th>place</th>\n",
       "      <th>lat</th>\n",
       "      <th>lon</th>\n",
       "    </tr>\n",
       "  </thead>\n",
       "  <tbody>\n",
       "  </tbody>\n",
       "</table>\n",
       "</div>"
      ],
      "text/plain": [
       "Empty DataFrame\n",
       "Columns: [id, place, lat, lon]\n",
       "Index: []"
      ]
     },
     "execution_count": 9,
     "metadata": {},
     "output_type": "execute_result"
    }
   ],
   "source": [
    "df.head()"
   ]
  },
  {
   "cell_type": "code",
   "execution_count": null,
   "metadata": {},
   "outputs": [],
   "source": []
  }
 ],
 "metadata": {
  "kernelspec": {
   "display_name": "Python 3",
   "language": "python",
   "name": "python3"
  },
  "language_info": {
   "codemirror_mode": {
    "name": "ipython",
    "version": 3
   },
   "file_extension": ".py",
   "mimetype": "text/x-python",
   "name": "python",
   "nbconvert_exporter": "python",
   "pygments_lexer": "ipython3",
   "version": "3.6.6"
  }
 },
 "nbformat": 4,
 "nbformat_minor": 2
}
